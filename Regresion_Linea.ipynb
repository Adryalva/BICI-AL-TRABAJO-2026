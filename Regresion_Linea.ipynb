{
  "nbformat": 4,
  "nbformat_minor": 0,
  "metadata": {
    "colab": {
      "provenance": [],
      "include_colab_link": true
    },
    "kernelspec": {
      "name": "python3",
      "display_name": "Python 3"
    },
    "language_info": {
      "name": "python"
    }
  },
  "cells": [
    {
      "cell_type": "markdown",
      "metadata": {
        "id": "view-in-github",
        "colab_type": "text"
      },
      "source": [
        "<a href=\"https://colab.research.google.com/github/Adryalva/BICI-AL-TRABAJO-2026/blob/main/Regresion_Linea.ipynb\" target=\"_parent\"><img src=\"https://colab.research.google.com/assets/colab-badge.svg\" alt=\"Open In Colab\"/></a>"
      ]
    },
    {
      "cell_type": "code",
      "execution_count": null,
      "metadata": {
        "id": "hWxZLe1IGLt0"
      },
      "outputs": [],
      "source": []
    },
    {
      "cell_type": "markdown",
      "source": [
        "# **Parte 1: Definición del Problema**\n",
        "Piensa en tu experiencia académica o laboral en un área de operaciones y elige un problema relacionado con inventarios, calidad, mantenimiento o productividad.\n",
        "\n",
        "1. Indica cuál es tu variable dependiente (aquello que quieres predecir o clasificar).\n",
        "2. Lista entre 3 y 5 variables independientes que medirías para predecir.\n",
        "3. Especifica si tu problema es de regresión (predecir un valor numérico) o de clasificación.\n",
        "\n",
        "Problema identificado:\n",
        "Productividad/ gestión de proyectos de instalación.\n",
        "\n",
        "Predecir el tiempo de instalación (horas) de una red de extinción.\n",
        "\n",
        "Respuesta (escribe aquí):\n",
        "\n",
        "**Respuesta 1:**\n",
        "Duración de la instalación (horas totales)\n",
        "\n",
        "**Respuesta 2:**\n",
        "-Area a proteger m2\n",
        "-Cantidad de elementos a instalar (tuberia, rociadores, válvulas, accesorios)\n",
        "-Experiencia del personal que realizara la instalación\n",
        "-Disponibilidad de los materiales (%) en obra al iniciar la actividad de instalación.\n",
        "-Numero de paradas por coordinación.\n",
        "\n",
        "**Respuesta 3:**\n",
        "\n",
        "Problema de regresión: Dado que vamos a predecir la cantidad de horas de instalación.\n",
        "\n"
      ],
      "metadata": {
        "id": "GrIGKSqvGZnY"
      }
    },
    {
      "cell_type": "markdown",
      "source": [
        "# **Parte 2: Preprocesamiento de Datos y *Leakage***\n",
        "\n",
        "Basado en el caso que definiste en la Parte 1:\n",
        "\n",
        "1. Lista entre 3 y 5 transformaciones que aplicarías a tus datos (ej. imputación de valores faltantes, codificación de variables categóricas, escalado, creación de lags, etc.) y justifica por qué cada una es necesaria.\n",
        "2. Señala un posible riesgo de data leakage (fuga de datos) en tu plan y explica cómo lo evitarías usando un pipeline de preprocesamiento.\n",
        "\n",
        "\n",
        "Respuesta (escribe aquí):\n",
        "\n",
        "1. Lista de transformaciones:\n",
        "\n",
        "1- Imputación de valores faltantes: variables como años promedio de experiencia del personal y % de materiales disponibles en obra al incio de la instalación. Se debe mantener la integridad de la base de datos y evitar la perdida de proyectos por falta de datos. Se puede imputar con media/mediana o con técnicas más avanzadas\n",
        "\n",
        "2-Escalado de variables numéricas: ejemplo el area de instalación vs el numero de paradas durante la actividad de instalación. Aunque la regresión lineal estándar no lo exige, si se usaran métodos con regularización o redes neuronales, el escalado evita que las variables con mayor rango dominen el modelo.\n",
        "\n",
        "3-Transformación logarítmica: ejemplo el área a proteger o la cantidad de material o elementos a instalar son valores suelen crecer de forma no lineal con respecto al tiempo de instalación. Por tanto Reducir asimetrías, estabilizar varianza y mejorar linealidad entre predictores y respuesta.\n",
        "\n",
        "4-Codificación de variables categóricas: si se agregara información de tipo de proyecto: edificio comercial, residencial, industrial, hospitalaria... esto influye influye en restricciones, normas y tiempos, y requiere one-hot.\n",
        "\n",
        "2. Posible riesgo de data leakage:\n",
        "\n",
        "Usar información que solo está disponible después de finalizar la instalación del proyecto al entrenar el modelo.\n",
        "\n",
        "Ejemplo: si asi se registran la cantidad de paradas que se realizaron durante la instalación al finalizar la instalación del proyecto. incluirlas en el modelo haría que las predicciones estén “viendo el futuro”. El modelo parecerá muy preciso en entrenamiento, pero en la práctica no podrá predecir antes de iniciar un proyecto similar que este listo para iniciar.\n",
        "\n",
        "\n",
        "Implementar un pipeline de preprocesamiento\n"
      ],
      "metadata": {
        "id": "-E1iqcytmIq2"
      }
    },
    {
      "cell_type": "markdown",
      "source": [
        "\n",
        "# **Parte 3: Interpretación y Métricas de Regresión Simple**\n",
        "Para esta sección, elige un caso simple de regresión (puede ser el tuyo o uno hipotético, como predecir la demanda de un producto según su precio).\n",
        "\n",
        "1. Define claramente las variables Y y X\n",
        " junto con sus unidades (ej. Y: número de unidades vendidas, X: precio en dólares).\n",
        "2. Supón que entrenas un modelo y obtienes una pendiente de B1=-0.6\n",
        ". Escribe una interpretación clara y concisa de este coeficiente en el contexto de tu problema.\n",
        "3. ¿Qué métrica de evaluación usarías (MAE, RMSE, o MAPE) y por qué es la más adecuada para tu caso?\n",
        "4. Menciona un supuesto del modelo de regresión lineal que validarías (ej. linealidad, homocedasticidad) y explica cómo lo harías (usando un gráfico o una prueba estadística).\n",
        "\n",
        "**Respuesta (Usaremos un ejemplo de demanda vs. precio para un repuesto automotriz):**\n",
        "\n",
        "**Desarrollo**\n",
        "\n",
        "1.**Variables y unidades Variable dependiente 𝑌**: Unidades demandadas del repuesto por semana (unidades).\n",
        "\n",
        "**Variable independiente 𝑋**: Precio de venta del repuesto (USD).\n",
        "\n",
        "**2.Modelo: 𝑌=𝛽0+𝛽1𝑋+𝜀**\n",
        "\n",
        "**Interpretación de la pendiente** 𝛽^1=−0.6 Por cada aumento de 1 USD en el precio del repuesto, la demanda semanal promedio disminuye en 0.6 unidades, manteniendo constantes los demás factores no modelados. En sentido contrario, una reducción de 1 USD en el precio se asocia con un incremento de 0.6 unidades en la demanda.\n",
        "\n",
        "**3.Métrica de evaluación Elección:** MAPE (Mean Absolute Percentage Error).\n",
        "\n",
        "**Justificación:**\n",
        "\n",
        "Interpretabilidad: Expresa el error como porcentaje, lo que facilita comunicar el desempeño a perfiles de negocio.\n",
        "\n",
        "Escala-invariante: Permite comparar precisión entre SKUs con niveles de demanda muy distintos.\n",
        "\n",
        "Sensibilidad adecuada: Penaliza proporcionalmente los errores relativos en productos de baja y alta demanda.\n",
        "\n",
        "**Fórmula:**\n",
        "\n",
        "MAPE=100𝑛∑𝑡=1𝑛∣𝑌𝑡−𝑌^𝑡𝑌𝑡∣\n",
        "\n",
        "Se usaria està, ya que si existen semanas con 𝑌𝑡=0, una variante como sMAPE o definir un umbral mínimo para evitar indeterminaciones.\n",
        "\n",
        "**4.Supuesto a validar y cómo hacerlo**\n",
        "\n",
        "Supuesto: Linealidad entre 𝑋 y 𝑌.\n",
        "\n",
        "**Cómo validarlo**:\n",
        "\n",
        "**Gráfico de dispersión:** Visualiza 𝑋 vs. 𝑌, con la recta ajustada; busca patrones curvilíneos sistemáticos que indiquen no linealidad.\n",
        "\n",
        "**Residuos vs. predicción:**\n",
        "\n",
        "Ajusta el modelo y grafica residuos 𝜀^𝑡=𝑌𝑡−𝑌^𝑡 contra 𝑌^𝑡.\n",
        "\n",
        "Si se observa una forma en “U” o “∩”, sugiere relación no lineal.\n",
        "\n",
        "Acción correctiva si falla: Transformar variables (p. ej., log𝑌, log𝑋) o incluir términos polinomiales (p. ej., 𝑋2) y comparar desempeño con MAPE."
      ],
      "metadata": {
        "id": "U3gCP6LYQXVZ"
      }
    },
    {
      "cell_type": "markdown",
      "source": [
        "##**Parte 4: Regresión Múltiple y Colinealidad**\n",
        "\n",
        "Volviendo a tu caso de la Parte 1 (con múltiples variables).\n",
        "\n",
        "1.  Escribe el **vector de variables** $\\vec{X}$ y la **respuesta** $Y$.\n",
        "2.  Explica cómo interpretarías el **coeficiente** de una de tus variables clave (incluyendo unidades y el sentido de la relación: positiva o negativa).\n",
        "3.  Si sospecharas que existe **colinealidad** entre tus variables, menciona **dos acciones** que podrías tomar para mitigarla.\n",
        "\n",
        "**Desarrollo**\n",
        "\n",
        "**RTA 1:** Y= duraciòn total de la instalaciòn (horas).\n",
        "\n",
        "**Vector de variables X**\n",
        "\n",
        "X =[𝑋1, 𝑋2, 𝑋3, 𝑋4, 𝑋5]=[àrea a proteger (m2),cantidad de elementos a instalar (unidades), experiencia del personal (años), disponibilidad de materiales al inicio  (%), Nùmero de paradas por coordinaciòn (conteo).\n",
        "\n",
        "**Modelo base (regresión lineal simple multivariable):**\n",
        "𝑌=𝛽0 + 𝛽1𝑋1 + 𝛽2𝑋2 + 𝛽3𝑋3 + 𝛽4𝑋4 + 𝛽5𝑋5 + 𝜀\n",
        "\n",
        "**RTA 2:** Interpretación de un coeficiente\n",
        "\n",
        "Variable clave elegida: disponibilidad de materiales al inicio 𝑋4(porcentaje entre 0 y 100).\n",
        "\n",
        "**Interpretación del coeficiente 𝛽4:**\n",
        "\n",
        "**Signo esperado:** negativo. Mayor disponibilidad inicial reduce tiempos muertos y retrabajos, por lo que disminuye la duración total.\n",
        "\n",
        "**Unidades:** horas por punto porcentual.\n",
        "\n",
        "**Ejemplo concreto:** si 𝛽^4=−0.15, entonces, manteniendo constantes las demás variables, un aumento de 10 puntos porcentuales en la disponibilidad (por ejemplo, de 70% a 80%) se asocia con una reducción esperada de **10×0.15=1.5 horas** en la duración total de la instalación.\n",
        "\n",
        "**Acciones ante colinealidad**\n",
        "Diagnosticar primero: calculando VIF (Variance Inflation Factor) para cada\n",
        "𝑋 y revisando la matriz de correlaciones. Si VIF > 5–10, hay colinealidad relevante.\n",
        "\n",
        "**Acción 1 — Selección/agrupación de variables:**\n",
        "\n",
        "Descripción: eliminar una de las variables altamente correlacionadas o combinarlas en un índice. Por ejemplo, si “área”\n",
        "\n",
        "𝑋1 y “cantidad de elementos”\n",
        "𝑋2 están muy correlacionadas, se puede:\n",
        "\n",
        "Mantener solo 𝑋2 como proxy de complejidad, o construir un índice de complejidad ponderado que combine ambas (p. ej., elementos por m²).\n",
        "\n",
        "**Acción 2 — Regularización:**\n",
        "\n",
        "Descripción: emplear regresión Ridge o Lasso para estabilizar los coeficientes ante colinealidad.\n",
        "\n",
        "Ridge reduce varianza de estimadores cuando las 𝑋 están correlacionadas.\n",
        "\n",
        "Lasso, además, puede llevar a cero variables redundantes, simplificando el modelo.\n",
        "\n"
      ],
      "metadata": {
        "id": "-npUxtCiz97g"
      }
    },
    {
      "cell_type": "markdown",
      "source": [
        "# **Parte 5: Interacciones y Multicolinealidad (VIF)**\n",
        "1.Plantea un caso con una variable  𝑌  y entre 4 y 6 variables  𝑋 . ¿Qué término de interacción entre dos variables podrías añadir al modelo y por qué crees que sería útil?\n",
        "\n",
        "2.Si al calcular el Factor de Inflación de la Varianza (VIF) para una variable, obtienes un valor alto (ej. > 10), menciona dos acciones que podrías tomar para solucionarlo."
      ],
      "metadata": {
        "id": "nc0VKXgqhpLb"
      }
    },
    {
      "cell_type": "markdown",
      "source": [
        "**Respuesta 1:**\n",
        "Ventas mensuales de una tienda online, donde las variables X podrian ser:\n",
        "\n",
        "X1: Gastos en publicidad en redes sociales\n",
        "\n",
        "X2: Gastos en publicidad en buscadores\n",
        "\n",
        "X3: Numero de reseñas positivas de los clientes\n",
        "\n",
        "X4: Precio promedio de los productos\n",
        "\n",
        "x5: Descuentos ofrecidos\n",
        "\n",
        "Un termino de interacción util podria ser:\n",
        "\n",
        "X1 * X2 (Publicidad en redes * Publicidad en buscadores)\n",
        "\n",
        "El invertir en ambos tipos de publicidad podria generar un efecto multiplicador: más personas veran la marca en varios lugares y terminaran comprando.\n",
        "\n",
        "**Respuesta 2:**\n",
        "Un factor de inflación de la varianza (VIF) alto indica que esa variable esta muy correlacionada con otras del modelo (multicolienalidad). Dos acciones que se podrian tomar para solucionarlo, serian:\n",
        "\n",
        "1. Eliminar o combinar variables: Si dos variables miden casi lo mismo, se puede dejar solo una o combianarlas.\n",
        "2. Centrar o estandarizar las variables: Restar la media y dividir por la desviación estandar, al estandarizar se reduce la inestabilidad numerica y la multicolinealidad puede bajar."
      ],
      "metadata": {
        "id": "gmzNkBauiPpl"
      }
    },
    {
      "cell_type": "markdown",
      "source": [
        "# **Parte 6: Variables Categóricas e Interacciones**\n",
        "1.Define una variable categórica para tu caso (puedes inventarla si no la tenías). Elige una de sus categorías como el nivel base o de referencia y justifica tu elección.\n",
        "\n",
        "2.Crea una interacción entre una variable numérica y la variable categórica que definiste. Explica cómo se interpretaría el coeficiente de esta interacción."
      ],
      "metadata": {
        "id": "zPgnRdpaiF2P"
      }
    },
    {
      "cell_type": "markdown",
      "source": [
        "**Respuesta 1:** Una variable adicional podria ser,\n",
        "X6: Tipo de cliente\n",
        "con tres categorias:\n",
        "\n",
        "*   \"Nuevo\" (Primera compra)\n",
        "*   \"Frecuente\" (Compra varias veces al año)\n",
        "*   \"Premium\" (Suscripción especial con beneficios)\n",
        "\n",
        "La categoria a elegir como nivel base seria \"Nuevo\", ya que es el grupo mas neutral o inicial: cualquier persona que ingresa a la tienda empieza como cliente \"Nuevo\"; Asi, los coeficientes de \"Frecuente\" y \"Premium\" se interpretan en comparación con este grupo de referencia.\n",
        "**Ejemplo:** si el coeficiente de “Frecuente” es positivo, significa que los clientes frecuentes generan más ventas que los nuevos, en promedio.\n",
        "\n",
        "\n",
        "**Respuesta 2:**\n",
        "\n",
        "**Variable dependiente (Y):** Ventas mensuales de la tienda online\n",
        "\n",
        "**Variable numérica (X1):** Gasto en publicidad en redes sociales\n",
        "\n",
        "**Variable categórica (X6):** Tipo de cliente (“Nuevo” = base, “Frecuente”, “Premium”)\n",
        "\n",
        "**Interacción:**\n",
        "\n",
        "X1 * X6(Frecuente) *texto en cursiva*\n",
        "\n",
        "Esta interacción significa \"efecto de publicidad en redes sociales para clientes Frecuentes en comparación con los Nuevos\".\n",
        "\n",
        "**Interpretación:**\n",
        "\n",
        "*   El coeficiente de X1 muestra como cambian las ventas al aumentar la publicidad para clientes Nuevos (nivel base).\n",
        "*   Si el coeficiente es positivo, quiere decir que la publicidad en redes sociales impacta mas fuerte en clientes Frecuentes que en Nuevos.\n",
        "*   Si es negativo, significa que la publicidad es menos efectiva en los clientes Frecuentes que en los Nuevos.\n",
        "\n",
        "\n",
        "\n",
        "\n",
        "\n",
        "\n"
      ],
      "metadata": {
        "id": "KeSMHulKiTbs"
      }
    },
    {
      "cell_type": "markdown",
      "source": [
        "# **Parte 7: Conceptos Clave de Clasificación**\n",
        "Aunque el taller se centra en regresión, estos conceptos son fundamentales en Machine Learning.\n",
        "\n",
        "1.Explica qué es la curva ROC y para qué se utiliza en un problema de clasificación.\n",
        "\n",
        "2.Define el concepto de accuracy (exactitud) y menciona una situación en la que podría ser una métrica engañosa.\n",
        "\n",
        "3.Describe qué es una matriz de confusión y cómo se interpretan sus componentes (Verdaderos Positivos, Falsos Positivos, Verdaderos Negativos, Falsos Negativos)."
      ],
      "metadata": {
        "id": "pDMF0C7Z4zo2"
      }
    },
    {
      "cell_type": "markdown",
      "source": [
        "\n",
        "**1. CURVA ROC (Receiver Operating Characteristic):**\n",
        "\n",
        "Es una representación gráfica que demuestra el desempeño de un modelo de clasificación binaria al variar el umbral de decisión. En el eje X se registra la tasa de falsos positivos (FPR) y en el eje Y la tasa de verdaderos positivos (TPR o sensibilidad).\n",
        "\n",
        "Uso: Permite evaluar qué tan bien un modelo distingue entre clases. El área bajo la curva (AUC) cuantifica el rendimiento: un valor de 1 indica clasificación perfecta, mientras que 0.5 refleja un modelo aleatorio.\n",
        "\n",
        "\n",
        "**2. ACCURACY (Exactitud):**\n",
        "\n",
        "Es la proporción de predicciones correctas (tanto positivos como negativos) respecto al total de predicciones:\n",
        "\n",
        "Accuracy=TP+TNTP+TN+FP+FNAccuracy = \\frac{TP + TN}{TP + TN + FP + FN}Accuracy=TP+TN+FP+FNTP+TN​\n",
        "\n",
        "Métrica engañosa: Conjuntos de datos desbalanceados. Por ejemplo, si el 95% de los pacientes no tiene una enfermedad y el modelo siempre predice “no enfermo”, el accuracy será 95%, pero el modelo es inútil porque nunca detectará a los enfermos.\n",
        "\n",
        "\n",
        "**3. MATRIZ DE CONFUSIÓN:**\n",
        "\n",
        "Es una tabla que resume el rendimiento de un clasificador comparando las predicciones con las etiquetas reales.\n",
        "Verdaderos Positivos (TP): Casos positivos correctamente clasificados.\n",
        "\n",
        "Falsos Positivos (FP): Casos negativos clasificados erróneamente como positivos.\n",
        "\n",
        "Verdaderos Negativos (TN): Casos negativos correctamente clasificados.\n",
        "\n",
        "Falsos Negativos (FN): Casos positivos que el modelo no detectó (clasificados como negativos).**\n",
        "\n",
        "\n",
        "**Interpretación:** Permite identificar no solo la exactitud del modelo, sino también los tipos de errores cometidos, lo que es crucial en contextos donde las consecuencias de un FP y un FN no son equivalentes (ejemplo: detección de fraudes o enfermedades)."
      ],
      "metadata": {
        "id": "kLn2I1QBici7"
      }
    }
  ]
}